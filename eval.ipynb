{
 "cells": [
  {
   "cell_type": "code",
   "execution_count": 2,
   "metadata": {},
   "outputs": [],
   "source": [
    "# import pickle file\n",
    "import joblib\n",
    "pkl_file = joblib.load(\"results/demo_courtyard_basketball_00.pkl\")"
   ]
  },
  {
   "cell_type": "code",
   "execution_count": 3,
   "metadata": {},
   "outputs": [
    {
     "data": {
      "text/plain": [
       "dict_keys(['outputs//_DEMO/courtyard_basketball_00/img/000001.jpg', 'outputs//_DEMO/courtyard_basketball_00/img/000002.jpg', 'outputs//_DEMO/courtyard_basketball_00/img/000003.jpg', 'outputs//_DEMO/courtyard_basketball_00/img/000004.jpg', 'outputs//_DEMO/courtyard_basketball_00/img/000005.jpg', 'outputs//_DEMO/courtyard_basketball_00/img/000006.jpg', 'outputs//_DEMO/courtyard_basketball_00/img/000007.jpg', 'outputs//_DEMO/courtyard_basketball_00/img/000008.jpg', 'outputs//_DEMO/courtyard_basketball_00/img/000009.jpg', 'outputs//_DEMO/courtyard_basketball_00/img/000010.jpg', 'outputs//_DEMO/courtyard_basketball_00/img/000011.jpg', 'outputs//_DEMO/courtyard_basketball_00/img/000012.jpg', 'outputs//_DEMO/courtyard_basketball_00/img/000013.jpg', 'outputs//_DEMO/courtyard_basketball_00/img/000014.jpg', 'outputs//_DEMO/courtyard_basketball_00/img/000015.jpg', 'outputs//_DEMO/courtyard_basketball_00/img/000016.jpg', 'outputs//_DEMO/courtyard_basketball_00/img/000017.jpg', 'outputs//_DEMO/courtyard_basketball_00/img/000018.jpg', 'outputs//_DEMO/courtyard_basketball_00/img/000019.jpg', 'outputs//_DEMO/courtyard_basketball_00/img/000020.jpg', 'outputs//_DEMO/courtyard_basketball_00/img/000021.jpg', 'outputs//_DEMO/courtyard_basketball_00/img/000022.jpg', 'outputs//_DEMO/courtyard_basketball_00/img/000023.jpg', 'outputs//_DEMO/courtyard_basketball_00/img/000024.jpg', 'outputs//_DEMO/courtyard_basketball_00/img/000025.jpg', 'outputs//_DEMO/courtyard_basketball_00/img/000026.jpg', 'outputs//_DEMO/courtyard_basketball_00/img/000027.jpg', 'outputs//_DEMO/courtyard_basketball_00/img/000028.jpg', 'outputs//_DEMO/courtyard_basketball_00/img/000029.jpg', 'outputs//_DEMO/courtyard_basketball_00/img/000030.jpg', 'outputs//_DEMO/courtyard_basketball_00/img/000031.jpg', 'outputs//_DEMO/courtyard_basketball_00/img/000032.jpg', 'outputs//_DEMO/courtyard_basketball_00/img/000033.jpg', 'outputs//_DEMO/courtyard_basketball_00/img/000034.jpg', 'outputs//_DEMO/courtyard_basketball_00/img/000035.jpg', 'outputs//_DEMO/courtyard_basketball_00/img/000036.jpg', 'outputs//_DEMO/courtyard_basketball_00/img/000037.jpg', 'outputs//_DEMO/courtyard_basketball_00/img/000038.jpg', 'outputs//_DEMO/courtyard_basketball_00/img/000039.jpg', 'outputs//_DEMO/courtyard_basketball_00/img/000040.jpg', 'outputs//_DEMO/courtyard_basketball_00/img/000041.jpg', 'outputs//_DEMO/courtyard_basketball_00/img/000042.jpg', 'outputs//_DEMO/courtyard_basketball_00/img/000043.jpg', 'outputs//_DEMO/courtyard_basketball_00/img/000044.jpg', 'outputs//_DEMO/courtyard_basketball_00/img/000045.jpg', 'outputs//_DEMO/courtyard_basketball_00/img/000046.jpg', 'outputs//_DEMO/courtyard_basketball_00/img/000047.jpg', 'outputs//_DEMO/courtyard_basketball_00/img/000048.jpg', 'outputs//_DEMO/courtyard_basketball_00/img/000049.jpg', 'outputs//_DEMO/courtyard_basketball_00/img/000050.jpg', 'outputs//_DEMO/courtyard_basketball_00/img/000051.jpg', 'outputs//_DEMO/courtyard_basketball_00/img/000052.jpg', 'outputs//_DEMO/courtyard_basketball_00/img/000053.jpg', 'outputs//_DEMO/courtyard_basketball_00/img/000054.jpg', 'outputs//_DEMO/courtyard_basketball_00/img/000055.jpg', 'outputs//_DEMO/courtyard_basketball_00/img/000056.jpg', 'outputs//_DEMO/courtyard_basketball_00/img/000057.jpg', 'outputs//_DEMO/courtyard_basketball_00/img/000058.jpg', 'outputs//_DEMO/courtyard_basketball_00/img/000059.jpg', 'outputs//_DEMO/courtyard_basketball_00/img/000060.jpg', 'outputs//_DEMO/courtyard_basketball_00/img/000061.jpg', 'outputs//_DEMO/courtyard_basketball_00/img/000062.jpg', 'outputs//_DEMO/courtyard_basketball_00/img/000063.jpg', 'outputs//_DEMO/courtyard_basketball_00/img/000064.jpg', 'outputs//_DEMO/courtyard_basketball_00/img/000065.jpg', 'outputs//_DEMO/courtyard_basketball_00/img/000066.jpg', 'outputs//_DEMO/courtyard_basketball_00/img/000067.jpg', 'outputs//_DEMO/courtyard_basketball_00/img/000068.jpg', 'outputs//_DEMO/courtyard_basketball_00/img/000069.jpg', 'outputs//_DEMO/courtyard_basketball_00/img/000070.jpg', 'outputs//_DEMO/courtyard_basketball_00/img/000071.jpg', 'outputs//_DEMO/courtyard_basketball_00/img/000072.jpg', 'outputs//_DEMO/courtyard_basketball_00/img/000073.jpg', 'outputs//_DEMO/courtyard_basketball_00/img/000074.jpg', 'outputs//_DEMO/courtyard_basketball_00/img/000075.jpg', 'outputs//_DEMO/courtyard_basketball_00/img/000076.jpg', 'outputs//_DEMO/courtyard_basketball_00/img/000077.jpg', 'outputs//_DEMO/courtyard_basketball_00/img/000078.jpg', 'outputs//_DEMO/courtyard_basketball_00/img/000079.jpg', 'outputs//_DEMO/courtyard_basketball_00/img/000080.jpg', 'outputs//_DEMO/courtyard_basketball_00/img/000081.jpg', 'outputs//_DEMO/courtyard_basketball_00/img/000082.jpg', 'outputs//_DEMO/courtyard_basketball_00/img/000083.jpg', 'outputs//_DEMO/courtyard_basketball_00/img/000084.jpg', 'outputs//_DEMO/courtyard_basketball_00/img/000085.jpg', 'outputs//_DEMO/courtyard_basketball_00/img/000086.jpg', 'outputs//_DEMO/courtyard_basketball_00/img/000087.jpg', 'outputs//_DEMO/courtyard_basketball_00/img/000088.jpg', 'outputs//_DEMO/courtyard_basketball_00/img/000089.jpg', 'outputs//_DEMO/courtyard_basketball_00/img/000090.jpg', 'outputs//_DEMO/courtyard_basketball_00/img/000091.jpg', 'outputs//_DEMO/courtyard_basketball_00/img/000092.jpg', 'outputs//_DEMO/courtyard_basketball_00/img/000093.jpg', 'outputs//_DEMO/courtyard_basketball_00/img/000094.jpg', 'outputs//_DEMO/courtyard_basketball_00/img/000095.jpg', 'outputs//_DEMO/courtyard_basketball_00/img/000096.jpg', 'outputs//_DEMO/courtyard_basketball_00/img/000097.jpg', 'outputs//_DEMO/courtyard_basketball_00/img/000098.jpg', 'outputs//_DEMO/courtyard_basketball_00/img/000099.jpg', 'outputs//_DEMO/courtyard_basketball_00/img/000100.jpg', 'outputs//_DEMO/courtyard_basketball_00/img/000101.jpg', 'outputs//_DEMO/courtyard_basketball_00/img/000102.jpg', 'outputs//_DEMO/courtyard_basketball_00/img/000103.jpg', 'outputs//_DEMO/courtyard_basketball_00/img/000104.jpg', 'outputs//_DEMO/courtyard_basketball_00/img/000105.jpg', 'outputs//_DEMO/courtyard_basketball_00/img/000106.jpg', 'outputs//_DEMO/courtyard_basketball_00/img/000107.jpg', 'outputs//_DEMO/courtyard_basketball_00/img/000108.jpg', 'outputs//_DEMO/courtyard_basketball_00/img/000109.jpg', 'outputs//_DEMO/courtyard_basketball_00/img/000110.jpg', 'outputs//_DEMO/courtyard_basketball_00/img/000111.jpg', 'outputs//_DEMO/courtyard_basketball_00/img/000112.jpg', 'outputs//_DEMO/courtyard_basketball_00/img/000113.jpg', 'outputs//_DEMO/courtyard_basketball_00/img/000114.jpg', 'outputs//_DEMO/courtyard_basketball_00/img/000115.jpg', 'outputs//_DEMO/courtyard_basketball_00/img/000116.jpg', 'outputs//_DEMO/courtyard_basketball_00/img/000117.jpg', 'outputs//_DEMO/courtyard_basketball_00/img/000118.jpg', 'outputs//_DEMO/courtyard_basketball_00/img/000119.jpg', 'outputs//_DEMO/courtyard_basketball_00/img/000120.jpg', 'outputs//_DEMO/courtyard_basketball_00/img/000121.jpg', 'outputs//_DEMO/courtyard_basketball_00/img/000122.jpg', 'outputs//_DEMO/courtyard_basketball_00/img/000123.jpg', 'outputs//_DEMO/courtyard_basketball_00/img/000124.jpg', 'outputs//_DEMO/courtyard_basketball_00/img/000125.jpg', 'outputs//_DEMO/courtyard_basketball_00/img/000126.jpg', 'outputs//_DEMO/courtyard_basketball_00/img/000127.jpg', 'outputs//_DEMO/courtyard_basketball_00/img/000128.jpg', 'outputs//_DEMO/courtyard_basketball_00/img/000129.jpg', 'outputs//_DEMO/courtyard_basketball_00/img/000130.jpg', 'outputs//_DEMO/courtyard_basketball_00/img/000131.jpg', 'outputs//_DEMO/courtyard_basketball_00/img/000132.jpg', 'outputs//_DEMO/courtyard_basketball_00/img/000133.jpg', 'outputs//_DEMO/courtyard_basketball_00/img/000134.jpg', 'outputs//_DEMO/courtyard_basketball_00/img/000135.jpg', 'outputs//_DEMO/courtyard_basketball_00/img/000136.jpg', 'outputs//_DEMO/courtyard_basketball_00/img/000137.jpg', 'outputs//_DEMO/courtyard_basketball_00/img/000138.jpg', 'outputs//_DEMO/courtyard_basketball_00/img/000139.jpg', 'outputs//_DEMO/courtyard_basketball_00/img/000140.jpg', 'outputs//_DEMO/courtyard_basketball_00/img/000141.jpg', 'outputs//_DEMO/courtyard_basketball_00/img/000142.jpg', 'outputs//_DEMO/courtyard_basketball_00/img/000143.jpg', 'outputs//_DEMO/courtyard_basketball_00/img/000144.jpg', 'outputs//_DEMO/courtyard_basketball_00/img/000145.jpg', 'outputs//_DEMO/courtyard_basketball_00/img/000146.jpg', 'outputs//_DEMO/courtyard_basketball_00/img/000147.jpg', 'outputs//_DEMO/courtyard_basketball_00/img/000148.jpg', 'outputs//_DEMO/courtyard_basketball_00/img/000149.jpg', 'outputs//_DEMO/courtyard_basketball_00/img/000150.jpg', 'outputs//_DEMO/courtyard_basketball_00/img/000151.jpg', 'outputs//_DEMO/courtyard_basketball_00/img/000152.jpg', 'outputs//_DEMO/courtyard_basketball_00/img/000153.jpg', 'outputs//_DEMO/courtyard_basketball_00/img/000154.jpg', 'outputs//_DEMO/courtyard_basketball_00/img/000155.jpg', 'outputs//_DEMO/courtyard_basketball_00/img/000156.jpg', 'outputs//_DEMO/courtyard_basketball_00/img/000157.jpg', 'outputs//_DEMO/courtyard_basketball_00/img/000158.jpg', 'outputs//_DEMO/courtyard_basketball_00/img/000159.jpg', 'outputs//_DEMO/courtyard_basketball_00/img/000160.jpg', 'outputs//_DEMO/courtyard_basketball_00/img/000161.jpg', 'outputs//_DEMO/courtyard_basketball_00/img/000162.jpg', 'outputs//_DEMO/courtyard_basketball_00/img/000163.jpg', 'outputs//_DEMO/courtyard_basketball_00/img/000164.jpg', 'outputs//_DEMO/courtyard_basketball_00/img/000165.jpg', 'outputs//_DEMO/courtyard_basketball_00/img/000166.jpg', 'outputs//_DEMO/courtyard_basketball_00/img/000167.jpg', 'outputs//_DEMO/courtyard_basketball_00/img/000168.jpg', 'outputs//_DEMO/courtyard_basketball_00/img/000169.jpg', 'outputs//_DEMO/courtyard_basketball_00/img/000170.jpg', 'outputs//_DEMO/courtyard_basketball_00/img/000171.jpg', 'outputs//_DEMO/courtyard_basketball_00/img/000172.jpg', 'outputs//_DEMO/courtyard_basketball_00/img/000173.jpg', 'outputs//_DEMO/courtyard_basketball_00/img/000174.jpg', 'outputs//_DEMO/courtyard_basketball_00/img/000175.jpg', 'outputs//_DEMO/courtyard_basketball_00/img/000176.jpg', 'outputs//_DEMO/courtyard_basketball_00/img/000177.jpg', 'outputs//_DEMO/courtyard_basketball_00/img/000178.jpg', 'outputs//_DEMO/courtyard_basketball_00/img/000179.jpg', 'outputs//_DEMO/courtyard_basketball_00/img/000180.jpg', 'outputs//_DEMO/courtyard_basketball_00/img/000181.jpg', 'outputs//_DEMO/courtyard_basketball_00/img/000182.jpg', 'outputs//_DEMO/courtyard_basketball_00/img/000183.jpg', 'outputs//_DEMO/courtyard_basketball_00/img/000184.jpg', 'outputs//_DEMO/courtyard_basketball_00/img/000185.jpg', 'outputs//_DEMO/courtyard_basketball_00/img/000186.jpg', 'outputs//_DEMO/courtyard_basketball_00/img/000187.jpg', 'outputs//_DEMO/courtyard_basketball_00/img/000188.jpg', 'outputs//_DEMO/courtyard_basketball_00/img/000189.jpg', 'outputs//_DEMO/courtyard_basketball_00/img/000190.jpg', 'outputs//_DEMO/courtyard_basketball_00/img/000191.jpg', 'outputs//_DEMO/courtyard_basketball_00/img/000192.jpg', 'outputs//_DEMO/courtyard_basketball_00/img/000193.jpg', 'outputs//_DEMO/courtyard_basketball_00/img/000194.jpg', 'outputs//_DEMO/courtyard_basketball_00/img/000195.jpg', 'outputs//_DEMO/courtyard_basketball_00/img/000196.jpg', 'outputs//_DEMO/courtyard_basketball_00/img/000197.jpg', 'outputs//_DEMO/courtyard_basketball_00/img/000198.jpg', 'outputs//_DEMO/courtyard_basketball_00/img/000199.jpg', 'outputs//_DEMO/courtyard_basketball_00/img/000200.jpg', 'outputs//_DEMO/courtyard_basketball_00/img/000201.jpg', 'outputs//_DEMO/courtyard_basketball_00/img/000202.jpg', 'outputs//_DEMO/courtyard_basketball_00/img/000203.jpg', 'outputs//_DEMO/courtyard_basketball_00/img/000204.jpg', 'outputs//_DEMO/courtyard_basketball_00/img/000205.jpg', 'outputs//_DEMO/courtyard_basketball_00/img/000206.jpg', 'outputs//_DEMO/courtyard_basketball_00/img/000207.jpg', 'outputs//_DEMO/courtyard_basketball_00/img/000208.jpg', 'outputs//_DEMO/courtyard_basketball_00/img/000209.jpg', 'outputs//_DEMO/courtyard_basketball_00/img/000210.jpg', 'outputs//_DEMO/courtyard_basketball_00/img/000211.jpg', 'outputs//_DEMO/courtyard_basketball_00/img/000212.jpg', 'outputs//_DEMO/courtyard_basketball_00/img/000213.jpg', 'outputs//_DEMO/courtyard_basketball_00/img/000214.jpg', 'outputs//_DEMO/courtyard_basketball_00/img/000215.jpg', 'outputs//_DEMO/courtyard_basketball_00/img/000216.jpg', 'outputs//_DEMO/courtyard_basketball_00/img/000217.jpg', 'outputs//_DEMO/courtyard_basketball_00/img/000218.jpg', 'outputs//_DEMO/courtyard_basketball_00/img/000219.jpg', 'outputs//_DEMO/courtyard_basketball_00/img/000220.jpg', 'outputs//_DEMO/courtyard_basketball_00/img/000221.jpg', 'outputs//_DEMO/courtyard_basketball_00/img/000222.jpg', 'outputs//_DEMO/courtyard_basketball_00/img/000223.jpg', 'outputs//_DEMO/courtyard_basketball_00/img/000224.jpg', 'outputs//_DEMO/courtyard_basketball_00/img/000225.jpg', 'outputs//_DEMO/courtyard_basketball_00/img/000226.jpg', 'outputs//_DEMO/courtyard_basketball_00/img/000227.jpg', 'outputs//_DEMO/courtyard_basketball_00/img/000228.jpg', 'outputs//_DEMO/courtyard_basketball_00/img/000229.jpg', 'outputs//_DEMO/courtyard_basketball_00/img/000230.jpg', 'outputs//_DEMO/courtyard_basketball_00/img/000231.jpg', 'outputs//_DEMO/courtyard_basketball_00/img/000232.jpg', 'outputs//_DEMO/courtyard_basketball_00/img/000233.jpg', 'outputs//_DEMO/courtyard_basketball_00/img/000234.jpg', 'outputs//_DEMO/courtyard_basketball_00/img/000235.jpg', 'outputs//_DEMO/courtyard_basketball_00/img/000236.jpg', 'outputs//_DEMO/courtyard_basketball_00/img/000237.jpg', 'outputs//_DEMO/courtyard_basketball_00/img/000238.jpg', 'outputs//_DEMO/courtyard_basketball_00/img/000239.jpg', 'outputs//_DEMO/courtyard_basketball_00/img/000240.jpg', 'outputs//_DEMO/courtyard_basketball_00/img/000241.jpg', 'outputs//_DEMO/courtyard_basketball_00/img/000242.jpg', 'outputs//_DEMO/courtyard_basketball_00/img/000243.jpg', 'outputs//_DEMO/courtyard_basketball_00/img/000244.jpg', 'outputs//_DEMO/courtyard_basketball_00/img/000245.jpg', 'outputs//_DEMO/courtyard_basketball_00/img/000246.jpg', 'outputs//_DEMO/courtyard_basketball_00/img/000247.jpg', 'outputs//_DEMO/courtyard_basketball_00/img/000248.jpg', 'outputs//_DEMO/courtyard_basketball_00/img/000249.jpg', 'outputs//_DEMO/courtyard_basketball_00/img/000250.jpg', 'outputs//_DEMO/courtyard_basketball_00/img/000251.jpg', 'outputs//_DEMO/courtyard_basketball_00/img/000252.jpg', 'outputs//_DEMO/courtyard_basketball_00/img/000253.jpg', 'outputs//_DEMO/courtyard_basketball_00/img/000254.jpg', 'outputs//_DEMO/courtyard_basketball_00/img/000255.jpg', 'outputs//_DEMO/courtyard_basketball_00/img/000256.jpg', 'outputs//_DEMO/courtyard_basketball_00/img/000257.jpg', 'outputs//_DEMO/courtyard_basketball_00/img/000258.jpg', 'outputs//_DEMO/courtyard_basketball_00/img/000259.jpg', 'outputs//_DEMO/courtyard_basketball_00/img/000260.jpg', 'outputs//_DEMO/courtyard_basketball_00/img/000261.jpg', 'outputs//_DEMO/courtyard_basketball_00/img/000262.jpg', 'outputs//_DEMO/courtyard_basketball_00/img/000263.jpg', 'outputs//_DEMO/courtyard_basketball_00/img/000264.jpg', 'outputs//_DEMO/courtyard_basketball_00/img/000265.jpg', 'outputs//_DEMO/courtyard_basketball_00/img/000266.jpg', 'outputs//_DEMO/courtyard_basketball_00/img/000267.jpg', 'outputs//_DEMO/courtyard_basketball_00/img/000268.jpg', 'outputs//_DEMO/courtyard_basketball_00/img/000269.jpg', 'outputs//_DEMO/courtyard_basketball_00/img/000270.jpg', 'outputs//_DEMO/courtyard_basketball_00/img/000271.jpg', 'outputs//_DEMO/courtyard_basketball_00/img/000272.jpg', 'outputs//_DEMO/courtyard_basketball_00/img/000273.jpg', 'outputs//_DEMO/courtyard_basketball_00/img/000274.jpg', 'outputs//_DEMO/courtyard_basketball_00/img/000275.jpg', 'outputs//_DEMO/courtyard_basketball_00/img/000276.jpg', 'outputs//_DEMO/courtyard_basketball_00/img/000277.jpg', 'outputs//_DEMO/courtyard_basketball_00/img/000278.jpg', 'outputs//_DEMO/courtyard_basketball_00/img/000279.jpg', 'outputs//_DEMO/courtyard_basketball_00/img/000280.jpg', 'outputs//_DEMO/courtyard_basketball_00/img/000281.jpg', 'outputs//_DEMO/courtyard_basketball_00/img/000282.jpg', 'outputs//_DEMO/courtyard_basketball_00/img/000283.jpg', 'outputs//_DEMO/courtyard_basketball_00/img/000284.jpg', 'outputs//_DEMO/courtyard_basketball_00/img/000285.jpg', 'outputs//_DEMO/courtyard_basketball_00/img/000286.jpg', 'outputs//_DEMO/courtyard_basketball_00/img/000287.jpg', 'outputs//_DEMO/courtyard_basketball_00/img/000288.jpg', 'outputs//_DEMO/courtyard_basketball_00/img/000289.jpg', 'outputs//_DEMO/courtyard_basketball_00/img/000290.jpg', 'outputs//_DEMO/courtyard_basketball_00/img/000291.jpg', 'outputs//_DEMO/courtyard_basketball_00/img/000292.jpg', 'outputs//_DEMO/courtyard_basketball_00/img/000293.jpg', 'outputs//_DEMO/courtyard_basketball_00/img/000294.jpg', 'outputs//_DEMO/courtyard_basketball_00/img/000295.jpg', 'outputs//_DEMO/courtyard_basketball_00/img/000296.jpg', 'outputs//_DEMO/courtyard_basketball_00/img/000297.jpg', 'outputs//_DEMO/courtyard_basketball_00/img/000298.jpg', 'outputs//_DEMO/courtyard_basketball_00/img/000299.jpg', 'outputs//_DEMO/courtyard_basketball_00/img/000300.jpg', 'outputs//_DEMO/courtyard_basketball_00/img/000301.jpg', 'outputs//_DEMO/courtyard_basketball_00/img/000302.jpg', 'outputs//_DEMO/courtyard_basketball_00/img/000303.jpg', 'outputs//_DEMO/courtyard_basketball_00/img/000304.jpg', 'outputs//_DEMO/courtyard_basketball_00/img/000305.jpg', 'outputs//_DEMO/courtyard_basketball_00/img/000306.jpg', 'outputs//_DEMO/courtyard_basketball_00/img/000307.jpg', 'outputs//_DEMO/courtyard_basketball_00/img/000308.jpg', 'outputs//_DEMO/courtyard_basketball_00/img/000309.jpg', 'outputs//_DEMO/courtyard_basketball_00/img/000310.jpg', 'outputs//_DEMO/courtyard_basketball_00/img/000311.jpg', 'outputs//_DEMO/courtyard_basketball_00/img/000312.jpg', 'outputs//_DEMO/courtyard_basketball_00/img/000313.jpg', 'outputs//_DEMO/courtyard_basketball_00/img/000314.jpg', 'outputs//_DEMO/courtyard_basketball_00/img/000315.jpg', 'outputs//_DEMO/courtyard_basketball_00/img/000316.jpg', 'outputs//_DEMO/courtyard_basketball_00/img/000317.jpg', 'outputs//_DEMO/courtyard_basketball_00/img/000318.jpg', 'outputs//_DEMO/courtyard_basketball_00/img/000319.jpg', 'outputs//_DEMO/courtyard_basketball_00/img/000320.jpg', 'outputs//_DEMO/courtyard_basketball_00/img/000321.jpg', 'outputs//_DEMO/courtyard_basketball_00/img/000322.jpg', 'outputs//_DEMO/courtyard_basketball_00/img/000323.jpg', 'outputs//_DEMO/courtyard_basketball_00/img/000324.jpg', 'outputs//_DEMO/courtyard_basketball_00/img/000325.jpg', 'outputs//_DEMO/courtyard_basketball_00/img/000326.jpg', 'outputs//_DEMO/courtyard_basketball_00/img/000327.jpg', 'outputs//_DEMO/courtyard_basketball_00/img/000328.jpg', 'outputs//_DEMO/courtyard_basketball_00/img/000329.jpg', 'outputs//_DEMO/courtyard_basketball_00/img/000330.jpg', 'outputs//_DEMO/courtyard_basketball_00/img/000331.jpg', 'outputs//_DEMO/courtyard_basketball_00/img/000332.jpg', 'outputs//_DEMO/courtyard_basketball_00/img/000333.jpg', 'outputs//_DEMO/courtyard_basketball_00/img/000334.jpg', 'outputs//_DEMO/courtyard_basketball_00/img/000335.jpg', 'outputs//_DEMO/courtyard_basketball_00/img/000336.jpg', 'outputs//_DEMO/courtyard_basketball_00/img/000337.jpg', 'outputs//_DEMO/courtyard_basketball_00/img/000338.jpg', 'outputs//_DEMO/courtyard_basketball_00/img/000339.jpg', 'outputs//_DEMO/courtyard_basketball_00/img/000340.jpg', 'outputs//_DEMO/courtyard_basketball_00/img/000341.jpg', 'outputs//_DEMO/courtyard_basketball_00/img/000342.jpg', 'outputs//_DEMO/courtyard_basketball_00/img/000343.jpg', 'outputs//_DEMO/courtyard_basketball_00/img/000344.jpg', 'outputs//_DEMO/courtyard_basketball_00/img/000345.jpg', 'outputs//_DEMO/courtyard_basketball_00/img/000346.jpg', 'outputs//_DEMO/courtyard_basketball_00/img/000347.jpg', 'outputs//_DEMO/courtyard_basketball_00/img/000348.jpg', 'outputs//_DEMO/courtyard_basketball_00/img/000349.jpg', 'outputs//_DEMO/courtyard_basketball_00/img/000350.jpg', 'outputs//_DEMO/courtyard_basketball_00/img/000351.jpg', 'outputs//_DEMO/courtyard_basketball_00/img/000352.jpg', 'outputs//_DEMO/courtyard_basketball_00/img/000353.jpg', 'outputs//_DEMO/courtyard_basketball_00/img/000354.jpg', 'outputs//_DEMO/courtyard_basketball_00/img/000355.jpg', 'outputs//_DEMO/courtyard_basketball_00/img/000356.jpg', 'outputs//_DEMO/courtyard_basketball_00/img/000357.jpg', 'outputs//_DEMO/courtyard_basketball_00/img/000358.jpg', 'outputs//_DEMO/courtyard_basketball_00/img/000359.jpg', 'outputs//_DEMO/courtyard_basketball_00/img/000360.jpg', 'outputs//_DEMO/courtyard_basketball_00/img/000361.jpg', 'outputs//_DEMO/courtyard_basketball_00/img/000362.jpg', 'outputs//_DEMO/courtyard_basketball_00/img/000363.jpg', 'outputs//_DEMO/courtyard_basketball_00/img/000364.jpg', 'outputs//_DEMO/courtyard_basketball_00/img/000365.jpg', 'outputs//_DEMO/courtyard_basketball_00/img/000366.jpg', 'outputs//_DEMO/courtyard_basketball_00/img/000367.jpg', 'outputs//_DEMO/courtyard_basketball_00/img/000368.jpg', 'outputs//_DEMO/courtyard_basketball_00/img/000369.jpg', 'outputs//_DEMO/courtyard_basketball_00/img/000370.jpg', 'outputs//_DEMO/courtyard_basketball_00/img/000371.jpg', 'outputs//_DEMO/courtyard_basketball_00/img/000372.jpg', 'outputs//_DEMO/courtyard_basketball_00/img/000373.jpg', 'outputs//_DEMO/courtyard_basketball_00/img/000374.jpg', 'outputs//_DEMO/courtyard_basketball_00/img/000375.jpg', 'outputs//_DEMO/courtyard_basketball_00/img/000376.jpg', 'outputs//_DEMO/courtyard_basketball_00/img/000377.jpg', 'outputs//_DEMO/courtyard_basketball_00/img/000378.jpg', 'outputs//_DEMO/courtyard_basketball_00/img/000379.jpg', 'outputs//_DEMO/courtyard_basketball_00/img/000380.jpg', 'outputs//_DEMO/courtyard_basketball_00/img/000381.jpg', 'outputs//_DEMO/courtyard_basketball_00/img/000382.jpg', 'outputs//_DEMO/courtyard_basketball_00/img/000383.jpg', 'outputs//_DEMO/courtyard_basketball_00/img/000384.jpg', 'outputs//_DEMO/courtyard_basketball_00/img/000385.jpg', 'outputs//_DEMO/courtyard_basketball_00/img/000386.jpg', 'outputs//_DEMO/courtyard_basketball_00/img/000387.jpg', 'outputs//_DEMO/courtyard_basketball_00/img/000388.jpg', 'outputs//_DEMO/courtyard_basketball_00/img/000389.jpg', 'outputs//_DEMO/courtyard_basketball_00/img/000390.jpg', 'outputs//_DEMO/courtyard_basketball_00/img/000391.jpg', 'outputs//_DEMO/courtyard_basketball_00/img/000392.jpg', 'outputs//_DEMO/courtyard_basketball_00/img/000393.jpg', 'outputs//_DEMO/courtyard_basketball_00/img/000394.jpg', 'outputs//_DEMO/courtyard_basketball_00/img/000395.jpg', 'outputs//_DEMO/courtyard_basketball_00/img/000396.jpg', 'outputs//_DEMO/courtyard_basketball_00/img/000397.jpg', 'outputs//_DEMO/courtyard_basketball_00/img/000398.jpg', 'outputs//_DEMO/courtyard_basketball_00/img/000399.jpg', 'outputs//_DEMO/courtyard_basketball_00/img/000400.jpg', 'outputs//_DEMO/courtyard_basketball_00/img/000401.jpg', 'outputs//_DEMO/courtyard_basketball_00/img/000402.jpg', 'outputs//_DEMO/courtyard_basketball_00/img/000403.jpg', 'outputs//_DEMO/courtyard_basketball_00/img/000404.jpg', 'outputs//_DEMO/courtyard_basketball_00/img/000405.jpg', 'outputs//_DEMO/courtyard_basketball_00/img/000406.jpg', 'outputs//_DEMO/courtyard_basketball_00/img/000407.jpg', 'outputs//_DEMO/courtyard_basketball_00/img/000408.jpg', 'outputs//_DEMO/courtyard_basketball_00/img/000409.jpg', 'outputs//_DEMO/courtyard_basketball_00/img/000410.jpg', 'outputs//_DEMO/courtyard_basketball_00/img/000411.jpg', 'outputs//_DEMO/courtyard_basketball_00/img/000412.jpg', 'outputs//_DEMO/courtyard_basketball_00/img/000413.jpg', 'outputs//_DEMO/courtyard_basketball_00/img/000414.jpg', 'outputs//_DEMO/courtyard_basketball_00/img/000415.jpg', 'outputs//_DEMO/courtyard_basketball_00/img/000416.jpg', 'outputs//_DEMO/courtyard_basketball_00/img/000417.jpg', 'outputs//_DEMO/courtyard_basketball_00/img/000418.jpg', 'outputs//_DEMO/courtyard_basketball_00/img/000419.jpg', 'outputs//_DEMO/courtyard_basketball_00/img/000420.jpg', 'outputs//_DEMO/courtyard_basketball_00/img/000421.jpg', 'outputs//_DEMO/courtyard_basketball_00/img/000422.jpg', 'outputs//_DEMO/courtyard_basketball_00/img/000423.jpg', 'outputs//_DEMO/courtyard_basketball_00/img/000424.jpg', 'outputs//_DEMO/courtyard_basketball_00/img/000425.jpg', 'outputs//_DEMO/courtyard_basketball_00/img/000426.jpg', 'outputs//_DEMO/courtyard_basketball_00/img/000427.jpg', 'outputs//_DEMO/courtyard_basketball_00/img/000428.jpg', 'outputs//_DEMO/courtyard_basketball_00/img/000429.jpg', 'outputs//_DEMO/courtyard_basketball_00/img/000430.jpg', 'outputs//_DEMO/courtyard_basketball_00/img/000431.jpg', 'outputs//_DEMO/courtyard_basketball_00/img/000432.jpg', 'outputs//_DEMO/courtyard_basketball_00/img/000433.jpg', 'outputs//_DEMO/courtyard_basketball_00/img/000434.jpg', 'outputs//_DEMO/courtyard_basketball_00/img/000435.jpg', 'outputs//_DEMO/courtyard_basketball_00/img/000436.jpg', 'outputs//_DEMO/courtyard_basketball_00/img/000437.jpg', 'outputs//_DEMO/courtyard_basketball_00/img/000438.jpg', 'outputs//_DEMO/courtyard_basketball_00/img/000439.jpg', 'outputs//_DEMO/courtyard_basketball_00/img/000440.jpg', 'outputs//_DEMO/courtyard_basketball_00/img/000441.jpg', 'outputs//_DEMO/courtyard_basketball_00/img/000442.jpg', 'outputs//_DEMO/courtyard_basketball_00/img/000443.jpg', 'outputs//_DEMO/courtyard_basketball_00/img/000444.jpg', 'outputs//_DEMO/courtyard_basketball_00/img/000445.jpg', 'outputs//_DEMO/courtyard_basketball_00/img/000446.jpg', 'outputs//_DEMO/courtyard_basketball_00/img/000447.jpg', 'outputs//_DEMO/courtyard_basketball_00/img/000448.jpg', 'outputs//_DEMO/courtyard_basketball_00/img/000449.jpg', 'outputs//_DEMO/courtyard_basketball_00/img/000450.jpg', 'outputs//_DEMO/courtyard_basketball_00/img/000451.jpg', 'outputs//_DEMO/courtyard_basketball_00/img/000452.jpg', 'outputs//_DEMO/courtyard_basketball_00/img/000453.jpg', 'outputs//_DEMO/courtyard_basketball_00/img/000454.jpg', 'outputs//_DEMO/courtyard_basketball_00/img/000455.jpg', 'outputs//_DEMO/courtyard_basketball_00/img/000456.jpg', 'outputs//_DEMO/courtyard_basketball_00/img/000457.jpg', 'outputs//_DEMO/courtyard_basketball_00/img/000458.jpg', 'outputs//_DEMO/courtyard_basketball_00/img/000459.jpg', 'outputs//_DEMO/courtyard_basketball_00/img/000460.jpg', 'outputs//_DEMO/courtyard_basketball_00/img/000461.jpg', 'outputs//_DEMO/courtyard_basketball_00/img/000462.jpg', 'outputs//_DEMO/courtyard_basketball_00/img/000463.jpg', 'outputs//_DEMO/courtyard_basketball_00/img/000464.jpg', 'outputs//_DEMO/courtyard_basketball_00/img/000465.jpg', 'outputs//_DEMO/courtyard_basketball_00/img/000466.jpg', 'outputs//_DEMO/courtyard_basketball_00/img/000467.jpg', 'outputs//_DEMO/courtyard_basketball_00/img/000468.jpg'])"
      ]
     },
     "execution_count": 3,
     "metadata": {},
     "output_type": "execute_result"
    }
   ],
   "source": [
    "pkl_file.keys()"
   ]
  },
  {
   "cell_type": "code",
   "execution_count": 4,
   "metadata": {},
   "outputs": [
    {
     "data": {
      "text/plain": [
       "dict_keys(['time', 'shot', 'frame_path', 'tracked_ids', 'tracked_bbox', 'tid', 'bbox', 'tracked_time', 'appe', 'loca', 'pose', 'uv', 'center', 'scale', 'size', 'img_path', 'img_name', 'class_name', 'conf', 'annotations', 'smpl', 'camera', 'camera_bbox', '3d_joints', '2d_joints', 'mask', 'extra_data', 'prediction_uv', 'prediction_pose', 'prediction_loca'])"
      ]
     },
     "execution_count": 4,
     "metadata": {},
     "output_type": "execute_result"
    }
   ],
   "source": [
    "pkl_file['outputs//_DEMO/courtyard_basketball_00/img/000001.jpg'].keys()"
   ]
  },
  {
   "cell_type": "code",
   "execution_count": 8,
   "metadata": {},
   "outputs": [],
   "source": [
    "data={}\n",
    "for frame in pkl_file.keys():\n",
    "    data[frame]={\n",
    "                    'track_ids'        : pkl_file[frame]['extra_data'],\n",
    "                    # 'prediction_uv'   : pkl_file[frame]['prediction_uv'],\n",
    "                    'prediction_pose' : pkl_file[frame]['prediction_pose'],\n",
    "                    # 'prediction_loca' : pkl_file[frame]['prediction_loca'],\n",
    "                }"
   ]
  },
  {
   "cell_type": "code",
   "execution_count": 14,
   "metadata": {},
   "outputs": [
    {
     "data": {
      "text/plain": [
       "array([ 9.55219686e-01, -1.07774727e-01, -2.75571793e-01, -1.73262909e-01,\n",
       "       -9.58677053e-01, -2.25650758e-01, -2.39864916e-01,  2.63292432e-01,\n",
       "       -9.34420586e-01,  9.96621609e-01,  7.86993280e-03, -8.17526653e-02,\n",
       "        3.88625748e-02,  8.31723928e-01,  5.53827524e-01,  7.23542273e-02,\n",
       "       -5.55133581e-01,  8.28608215e-01,  8.88840616e-01,  3.13555121e-01,\n",
       "       -3.34133983e-01, -6.76793903e-02,  8.11044037e-01,  5.81056833e-01,\n",
       "        4.53190744e-01, -4.93852913e-01,  7.42110074e-01,  9.96876121e-01,\n",
       "       -7.71837309e-03,  7.86030442e-02,  4.36632670e-02,  8.83161128e-01,\n",
       "       -4.67033237e-01, -6.58143759e-02,  4.69006330e-01,  8.80739272e-01,\n",
       "        9.94483650e-01,  1.04386054e-01,  1.02841742e-02, -5.77527694e-02,\n",
       "        6.26766205e-01, -7.77064145e-01, -8.75604376e-02,  7.72183716e-01,\n",
       "        6.29337311e-01,  8.15118670e-01, -5.51565528e-01, -1.77079156e-01,\n",
       "       -7.37788109e-03,  2.95771748e-01, -9.55230117e-01,  5.79247057e-01,\n",
       "        7.79932380e-01,  2.37019688e-01,  9.89730358e-01,  7.98798651e-02,\n",
       "        1.18545540e-01, -6.91710860e-02,  9.93366778e-01, -9.18573588e-02,\n",
       "       -1.25096753e-01,  8.27140883e-02,  9.88690615e-01,  9.85426188e-01,\n",
       "        3.59852128e-02,  1.66253716e-01, -7.27684423e-02,  9.72600877e-01,\n",
       "        2.20799148e-01, -1.53752998e-01, -2.29679286e-01,  9.61044967e-01,\n",
       "        9.64021504e-01,  9.46399495e-02, -2.48406783e-01, -4.57130224e-02,\n",
       "        9.79577184e-01,  1.95803002e-01,  2.61864394e-01, -1.77402854e-01,\n",
       "        9.48659778e-01,  9.95776594e-01,  3.39154750e-02,  8.53149965e-02,\n",
       "       -3.14110219e-02,  9.99040246e-01, -3.05283684e-02, -8.62684995e-02,\n",
       "        2.77196020e-02,  9.95886207e-01,  9.69987154e-01, -2.04729095e-01,\n",
       "        1.31190479e-01,  1.93692014e-01,  9.76727545e-01,  9.21238512e-02,\n",
       "       -1.46997765e-01, -6.39484078e-02,  9.87067580e-01,  9.93983924e-01,\n",
       "        5.88986091e-02, -9.23416838e-02, -4.40359041e-02,  9.86862898e-01,\n",
       "        1.55443102e-01,  1.00283958e-01, -1.50441587e-01,  9.83519495e-01,\n",
       "        9.70428526e-01, -2.40810618e-01,  1.66968983e-02,  2.40311489e-01,\n",
       "        9.70311284e-01,  2.73192972e-02, -2.27799658e-02, -2.24989671e-02,\n",
       "        9.99487281e-01,  8.24134469e-01,  4.85207856e-01, -2.92191118e-01,\n",
       "       -3.95337075e-01,  8.62208724e-01,  3.16709042e-01,  4.05599505e-01,\n",
       "       -1.45496845e-01,  9.02396560e-01,  6.91854417e-01, -1.65617451e-01,\n",
       "        7.02786088e-01,  3.02998553e-04,  9.73404586e-01,  2.29092687e-01,\n",
       "       -7.22036958e-01, -1.58285856e-01,  6.73504472e-01,  9.66042697e-01,\n",
       "        4.62064706e-02,  2.54217595e-01,  2.46075690e-02,  9.62955117e-01,\n",
       "       -2.68536538e-01, -2.57208258e-01,  2.65673399e-01,  9.29118752e-01,\n",
       "        7.30130017e-01,  3.99859667e-01, -5.54096043e-01, -3.68432671e-01,\n",
       "        9.13302600e-01,  1.73596472e-01,  5.75471580e-01,  7.73990899e-02,\n",
       "        8.14150989e-01,  4.34476674e-01, -7.23338798e-02,  8.97773802e-01,\n",
       "        8.56601298e-02,  9.95570302e-01,  3.87582146e-02, -8.96600425e-01,\n",
       "        6.00639209e-02,  4.38748211e-01, -4.30411130e-01, -2.05060139e-01,\n",
       "       -8.79031658e-01,  3.87671322e-01,  8.37463260e-01, -3.85183424e-01,\n",
       "        8.15142453e-01, -5.06562591e-01, -2.80957580e-01, -5.25564849e-01,\n",
       "        3.70954454e-01,  7.65620291e-01,  1.21381089e-01,  9.23421025e-01,\n",
       "       -3.64088446e-01, -8.42050016e-01, -9.84202623e-02, -5.30344486e-01,\n",
       "        9.65331614e-01, -2.35278293e-01, -1.13044709e-01,  2.38196269e-01,\n",
       "        9.71132100e-01,  1.28452862e-02,  1.06759124e-01, -3.93267870e-02,\n",
       "        9.93506908e-01,  9.58939910e-01,  2.47529462e-01,  1.38431817e-01,\n",
       "       -2.26849511e-01,  9.62397218e-01, -1.49435401e-01, -1.70216054e-01,\n",
       "        1.11896381e-01,  9.79033053e-01,  9.86326039e-01,  1.50875852e-01,\n",
       "       -6.63130879e-02, -1.48385242e-01,  9.88078117e-01,  4.10317704e-02,\n",
       "        7.17132017e-02, -3.06308251e-02,  9.96954918e-01,  9.90147531e-01,\n",
       "       -1.07123740e-01,  9.01799351e-02,  1.07250243e-01,  9.94226038e-01,\n",
       "        3.45582841e-03, -9.00294408e-02,  6.25004014e-03,  9.95919526e-01,\n",
       "       -1.63562074e-02,  5.82252204e-01, -3.27332377e-01,  7.55929649e-01,\n",
       "       -7.86697268e-02, -5.13269544e-01, -6.31966218e-02,  3.77796710e-01,\n",
       "        7.10990876e-02,  4.40050066e-02,  1.59637794e-01,  3.51497293e-01,\n",
       "        1.37480900e-01], dtype=float32)"
      ]
     },
     "execution_count": 14,
     "metadata": {},
     "output_type": "execute_result"
    }
   ],
   "source": [
    "data['outputs//_DEMO/courtyard_basketball_00/img/000001.jpg']['prediction_pose'][0]"
   ]
  },
  {
   "cell_type": "code",
   "execution_count": 18,
   "metadata": {},
   "outputs": [
    {
     "data": {
      "text/plain": [
       "array([ 0.9552197 , -0.10777473, -0.2755718 , -0.17326291, -0.95867705,\n",
       "       -0.22565076, -0.23986492,  0.26329243, -0.9344206 ], dtype=float32)"
      ]
     },
     "execution_count": 18,
     "metadata": {},
     "output_type": "execute_result"
    }
   ],
   "source": [
    "data['outputs//_DEMO/courtyard_basketball_00/img/000001.jpg']['prediction_pose'][0][0:9]"
   ]
  },
  {
   "cell_type": "code",
   "execution_count": 19,
   "metadata": {},
   "outputs": [
    {
     "data": {
      "text/plain": [
       "(207,)"
      ]
     },
     "execution_count": 19,
     "metadata": {},
     "output_type": "execute_result"
    }
   ],
   "source": [
    "data['outputs//_DEMO/courtyard_basketball_00/img/000001.jpg']['prediction_pose'][0][9:216].shape"
   ]
  },
  {
   "cell_type": "code",
   "execution_count": 20,
   "metadata": {},
   "outputs": [
    {
     "data": {
      "text/plain": [
       "(10,)"
      ]
     },
     "execution_count": 20,
     "metadata": {},
     "output_type": "execute_result"
    }
   ],
   "source": [
    "data['outputs//_DEMO/courtyard_basketball_00/img/000001.jpg']['prediction_pose'][0][216:226].shape"
   ]
  },
  {
   "cell_type": "code",
   "execution_count": 21,
   "metadata": {},
   "outputs": [
    {
     "data": {
      "text/plain": [
       "(3,)"
      ]
     },
     "execution_count": 21,
     "metadata": {},
     "output_type": "execute_result"
    }
   ],
   "source": [
    "data['outputs//_DEMO/courtyard_basketball_00/img/000001.jpg']['prediction_pose'][0][226:229].shape"
   ]
  },
  {
   "cell_type": "code",
   "execution_count": null,
   "metadata": {},
   "outputs": [],
   "source": []
  }
 ],
 "metadata": {
  "kernelspec": {
   "display_name": "Python 3",
   "language": "python",
   "name": "python3"
  },
  "language_info": {
   "codemirror_mode": {
    "name": "ipython",
    "version": 3
   },
   "file_extension": ".py",
   "mimetype": "text/x-python",
   "name": "python",
   "nbconvert_exporter": "python",
   "pygments_lexer": "ipython3",
   "version": "3.11.5"
  }
 },
 "nbformat": 4,
 "nbformat_minor": 2
}
